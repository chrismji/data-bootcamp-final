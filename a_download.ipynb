{
 "cells": [
  {
   "cell_type": "code",
   "execution_count": 1,
   "metadata": {},
   "outputs": [],
   "source": [
    "import requests\n",
    "import re\n",
    "import json"
   ]
  },
  {
   "cell_type": "code",
   "execution_count": 2,
   "metadata": {},
   "outputs": [],
   "source": [
    "source = 'https://raw.githubusercontent.com/smogon/pokemon-showdown/refs/heads/master/data/'"
   ]
  },
  {
   "cell_type": "markdown",
   "metadata": {},
   "source": [
    "Data is being pulled from the aforementioned open-source [Pokemon Showdown](https://github.com/smogon/pokemon-showdown), including a database which they use for their [Pokedex](https://www.smogon.com/dex/sv/pokemon/). This includes both a Pokemon's general information, and its tiering data, which is all that we need for this project."
   ]
  },
  {
   "cell_type": "code",
   "execution_count": 3,
   "metadata": {},
   "outputs": [],
   "source": [
    "# import pokedex\n",
    "r = requests.get(f'{source}pokedex.ts')\n",
    "with open(\"pokedex.ts\", \"w\") as ts_file:\n",
    "    ts_file.write(r.text)"
   ]
  },
  {
   "cell_type": "code",
   "execution_count": 4,
   "metadata": {},
   "outputs": [],
   "source": [
    "# smogon tier data\n",
    "r = requests.get(f'{source}formats-data.ts')\n",
    "with open(\"tiers.ts\", \"w\") as ts_file:\n",
    "    ts_file.write(r.text)"
   ]
  },
  {
   "cell_type": "markdown",
   "metadata": {},
   "source": [
    "Although the data is actually in the form of javascript .ts files, it's actually quite easy to use regex to convert it into a json file. After removing the \"code\" around the database, all that's left is to put quotation marks around all of the strings and remove extra trailing commas and semicolons."
   ]
  },
  {
   "cell_type": "code",
   "execution_count": 5,
   "metadata": {},
   "outputs": [],
   "source": [
    "def reformat(path):\n",
    "\n",
    "    with open(f\"{path}.ts\", \"r\") as file:\n",
    "        content = file.read()\n",
    "\n",
    "    json_text = re.sub(r\"^export const .+?= \", \"\", content.strip(), flags=re.DOTALL) # remove first line\n",
    "    json_text = re.sub(r\"//.*\", \"\", json_text) # remove comments\n",
    "    json_text = re.sub(r\"(\\b\\w+\\b):\", r'\"\\1\":', json_text) # add quotes to every word\n",
    "    json_text = re.sub(r\"(?<!\\w)'(\\w+)'(?!\\w)\", r'\"\\1\"', json_text) # replace apostrophes\n",
    "    json_text = json_text.rstrip(\";\") # remove trailing semicolon\n",
    "    json_text = re.sub(r\",\\s*([\\}\\]])\", r\"\\1\", json_text) # remove trailing commas\n",
    "    \n",
    "    json_text = json_text.replace(\"\\\"Type\\\": Null\", \"Type: Null\") # for the only pokemon out of 1000+ with a colon in its name\n",
    "\n",
    "    json_data = json.loads(json_text)\n",
    "    with open(f'{path}.json', \"w\") as json_file:\n",
    "        json.dump(json_data, json_file, indent=4)"
   ]
  },
  {
   "cell_type": "code",
   "execution_count": 6,
   "metadata": {},
   "outputs": [],
   "source": [
    "reformat('tiers')\n",
    "reformat('pokedex')"
   ]
  }
 ],
 "metadata": {
  "kernelspec": {
   "display_name": "base",
   "language": "python",
   "name": "python3"
  },
  "language_info": {
   "codemirror_mode": {
    "name": "ipython",
    "version": 3
   },
   "file_extension": ".py",
   "mimetype": "text/x-python",
   "name": "python",
   "nbconvert_exporter": "python",
   "pygments_lexer": "ipython3",
   "version": "3.12.4"
  }
 },
 "nbformat": 4,
 "nbformat_minor": 2
}
